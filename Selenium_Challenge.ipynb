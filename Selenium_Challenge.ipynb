{
 "cells": [
  {
   "cell_type": "markdown",
   "metadata": {},
   "source": [
    "# Selenium Challenge\n",
    "<p>Oh no! You need to scrape and work with some data on a website that you used to frequent. The developers stuck it behind a login screen! How are you going to work with that data now??? Time to throw away beautiful soup and break out selenium.</p>\n",
    "<p>Use selenium to bypass the login screen so that you can automate the process of answering the following 3 questions.</p>\n",
    "<p>Challenge URL: <a href=\"https://modest-jennings-77f32e.netlify.app/\">https://modest-jennings-77f32e.netlify.app/</a></p>\n",
    "<p>Your password: jZ3HF+}g</p>"
   ]
  },
  {
   "cell_type": "code",
   "execution_count": 1,
   "metadata": {},
   "outputs": [],
   "source": [
    "from selenium import webdriver\n",
    "from selenium.webdriver.common.keys import Keys\n",
    "from time import sleep\n",
    "\n",
    "import requests\n",
    "\n",
    "import unicodecsv as csv\n",
    "\n",
    "import pandas as pd\n",
    "import numpy as np \n",
    "import matplotlib.pyplot as plt"
   ]
  },
  {
   "cell_type": "code",
   "execution_count": 58,
   "metadata": {},
   "outputs": [
    {
     "name": "stdout",
     "output_type": "stream",
     "text": [
      "Begin scraping...\n",
      "[Evan Bos 28.72 33.3, Aaron Bos 21.76 15, Payton Bos 23.48 13.5, Marcus Bos 27.38 36.6, Jayson Bos 23.38 37, Tristan Bos 30.36 26.4, Grant Bos 22.64 11.4, Romeo Bos 21.74 27.2, Jabari Bos 26.35 14.8, Kemba Bos 31.2 30.3, Tremont Bos 23.53 2, Robert Bos 23.76 15.2, Carsen Bos 23.36 2.7, Luke Bos 26.02 2.7, Semi Bos 26.63 6, Tacko Bos 25.61 0.9, Bogdan Atl 28.92 33.2, Clint Atl 27.18 31.6, John Atl 23.83 32, Danilo Atl 32.95 24.6, Kevin Atl 22.9 31, Onyeka Atl 20.61 9.2, Lou Atl 34.73 15.4, Trae Atl 22.84 37.7, Solomon Atl 30.34 10.4, Tony Atl 29.69 7.3, Skylar Atl 23.87 2.4, Bruno Atl 22.93 2, Nathan Atl 23.83 2.3, De'Andre Atl 23.63 30.3, Kris Atl 27.34 6.6, Cam Atl 21.89 23, Jalen Dal 24.89 16.3, Luka Dal 22.39 40.2, Dorian Dal 28.21 38.7, Tim Dal 29.35 37.4, Maxi Dal 29.47 26.8, Kristaps Dal 25.97 33.3, Dwight Dal 30 7.5, Josh Dal 27.85 13.4, Willie Dal 27.92 10.5, Boban Dal 32.93 20.9, Nicolo Dal 30.48 6.4, Trey Dal 28.69 8.3, Josh Dal 20.67 4.2, Facundo Den 30.33 27, Aaron Den 25.84 29.9, JaMychal Den 31.08 19, Nikola Den 26.42 34.5, Monte Den 26.07 28.7, Michael Den 23.06 33.2, Austin Den 28.97 30.5, Shaquille Den 27.79 4.5, Markus Den 22.38 12.4, Paul Den 36.44 12.1, Vlatko Den 24.28 4.2, Zeke Den 20.53 3.5, JaVale Den 33.5 8.5, Will Den 30.54 27.7, Bol Den 21.68 2, Nicolas Lac 32.6 29.2, Paul Lac 31.22 40.9, Reggie Lac 31.26 32.7, Terance Lac 24.75 19.9, Marcus Lac 31.88 31.8, Ivica Lac 24.34 17.7, Patrick Lac 33.02 19, Luke Lac 25.07 14.6, Rajon Lac 35.41 16.9, Kawhi Lac 30.06 39.2, Amir Lac 24.09 1.6, Yogi Lac 28.2 1.6, Daniel Lac 21.83 1.9, DeMarcus Lac 30.94 8.3, Jay Lac 20.88 1.3, Serge Lac 31.84 9.2, Alex Lal 27.39 20.1, LeBron Lal 36.55 37.3, Kyle Lal 25.99 21.6, Wesley Lal 34.77 18.4, Dennis Lal 27.85 32.8, Kentavious Lal 28.42 29.1, Anthony Lal 28.36 28.8, Andre Lal 27.95 21, Marc Lal 36.47 17.5, Montrezl Lal 27.48 9.8, Talen Lal 20.65 12.1, Ben Lal 28.44 8.9, Markieff Lal 31.88 9.5, Jared Lal 36.03 2.5, Alfonzo Lal 28.84 5.9, Grayson Mem 25.78 23.2, Kyle Mem 27.83 28.4, Desmond Mem 23.07 19.8, Dillon Mem 25.49 34.9, Jaren Mem 21.85 27.5, Tyus Mem 25.2 9.3, De'Anthony Mem 23.15 16.7, Ja Mem 21.95 40.5, Jonas Mem 29.21 33.1, Xavier Mem 22.52 5.9, Brandon Mem 24.83 4.8, John Mem 25.33 2.8, Justise Mem 25.32 2.8, Bam Mia 24.01 34, Trevor Mia 36.06 24, Jimmy Mia 31.85 38.6, Dewayne Mia 31.94 14.3, Goran Mia 35.21 29.2, Tyler Mia 21.5 23.2, Andre Mia 37.48 17.8, Kendrick Mia 25.97 23.3, Duncan Mia 27.25 24.9, Precious Mia 21.84 4.1, Gabe Mia 25.1 4.7, Nemanja Mia 33.2 15.2, KZ Mia 22.23 2.9, Max Mia 25.31 2.9, Pat Mil 28.54 23.7, Bryn Mil 28 13.7, Jrue Mil 31.11 39.6, Brook Mil 33.3 29, Khris Mil 29.94 40.1, P.J. Mil 36.21 29.6, Giannis Mil 26.62 38.1, Bobby Mil 26.44 18.3, Thanasis Mil 29.01 3.5, Jeff Mil 33.11 7.5, Elijah Mil 20 4.5, Sam Mil 25.18 3.7, Mamadi Mil 24.5 5, Justin Mil 26.32 3, Jordan Mil 22.86 6.2, Axel Mil 20 2.5, Donte Mil 24.47 23.3, RJ Nyk 21.1 32.3, Reggie Nyk 30.35 32.5, Alec Nyk 30 25.6, Taj Nyk 36.07 27.6, Nerlens Nyk 27.28 18.4, Immanuel Nyk 22.09 15.4, Julius Nyk 26.64 36.1, Derrick Nyk 32.79 35, Obi Nyk 23.38 13.1, Frank Nyk 22.98 1.2, Elfrid Nyk 27.41 6.6, Kevin Nyk 21.94 3.5, Seth Phi 30.91 31.8, Tobias Phi 29.01 36.5, George Phi 35.21 17.1, Dwight Phi 35.62 12.4, Furkan Phi 23.99 16.2, Tyrese Phi 20.71 13, Shake Phi 24.81 10.1, Ben Phi 25 33.5, Matisse Phi 24.38 18.3, Joel Phi 27.35 32.4, Danny Phi 34.08 24.8, Mike Phi 33.01 6.9, Isaiah Phi 22.05 2.4, Paul Phi 22.1 3.5, Anthony Phi 36.14 1.7, Rayjon Phi 23.82 1.7, Deandre Pho 23 36.4, Devin Pho 24.72 40.4, Mikal Pho 24.89 32.1, Torrey Pho 30.59 12.1, Jae Pho 31.04 33.2, Cameron Pho 26.95 19, Cameron Pho 25.38 21.1, Chris Pho 36.21 34.2, Dario Pho 27.29 10.5, Frank Pho 28.3 6.8, Jevon Pho 25.85 3.1, E'Twaun Pho 32.4 6.6, Jalen Pho 21.35 2.9, Abdel Pho 27.82 5.8, Langston Pho 29.61 7.4, Ty-Shon Pho 23.01 1.3, Carmelo Por 37.14 23.9, Robert Por 30.6 38.1, Damian Por 31.02 41.3, CJ Por 29.84 39.9, Jusuf Por 26.91 28.9, Norman Por 28.16 36, Anfernee Por 22.12 17.9, Rondae Por 26.55 7.1, Enes Por 29.17 11.2, T.J. Por 24.23 2.5, Nassir Por 21.44 3, Keljin Por 25.66 2, CJ Por 21.09 4, Derrick Por 24.43 5.3, Harry Por 23.25 3.6, Bojan Uta 32.26 35.5, Jordan Uta 29.12 27.1, Derrick Uta 30.02 13.1, Rudy Uta 29.07 34.2, Joe Uta 33.8 27.8, Georges Uta 28.09 11.7, Royce Uta 28.13 36.7, Donovan Uta 24.87 34.6, Miye Uta 23.96 5.2, Mike Uta 33.78 29.3, Trent Uta 23.11 2.4, Matt Uta 26.96 2.3, Jarrell Uta 25.12 1.7, Juwan Uta 24.26 2.9, Udoka Uta 21.84 1.2, Ersan Uta 34.18 3.4, Bradley Was 28.06 39.1, Daniel Was 22.8 23.4, Rui Was 23.45 34.6, Alex Was 28.1 8.4, Robin Was 33.3 14.6, Raul Was 29.17 22.5, Ish Was 33.04 22.3, Russell Was 32.69 37.2, Davis Was 28.69 26.5, Isaac Was 21.7 2.4, Anthony Was 28.76 8.2, Garrison Was 24.74 5.7, Chandler Was 25.23 9.1, Cassius Was 23.39 5.5, Bruce Bro 24.93 23.1, Nicolas Bro 22.26 10.8, Kevin Bro 32.81 40.4, Blake Bro 32.35 26.5, Joe Bro 29.87 36.2, Landry Bro 24.36 17.2, Kyrie Bro 29.33 36.1, Mike Bro 30.93 11.4, James Bro 31.9 35.7, Tyler Bro 29.2 8.7, Timothe Bro 26.2 3.5, Chris Bro 25.66 3.2, Jeff Bro 34.9 24.7, Alize Bro 25.24 4.5, Reggie Bro 21.33 4.4]\n",
      "Done Scraping\n"
     ]
    }
   ],
   "source": [
    "\n",
    "class Player:\n",
    "    def __init__(self, name, team, position, age, games_played, minutes_per_game):\n",
    "        self.name = name\n",
    "        self.team = team\n",
    "        self.position = position\n",
    "        self.age = age\n",
    "        self.games_played = games_played\n",
    "        self.minutes_per_game = minutes_per_game\n",
    "        self.oldest_player = None\n",
    "        \n",
    "    @classmethod\n",
    "    def from_dict(cls, my_dict):\n",
    "        return cls(my_dict['name'], my_dict['team'],\n",
    "                   my_dict['position'], my_dict['age'],\n",
    "                   my_dict['games_played'], my_dict['minutes_per_game'])\n",
    "    \n",
    "    def __repr__(self):\n",
    "        return f'<{self.name} {self.team} {self.age} {self.minutes_per_game}>'\n",
    "    \n",
    "class Team: \n",
    "    def __init__(self, name, players=None):\n",
    "        self.name = name\n",
    "        \n",
    "        if players is None:\n",
    "                self.players = []\n",
    "        else:\n",
    "            self.players = players\n",
    "        \n",
    "    def add_player(self, player):\n",
    "        self.players.append(player)\n",
    "    \n",
    "    def remove_player(self, player_name):\n",
    "        for idx, player in enumerate(self.players):\n",
    "            if player.name == player_name:\n",
    "                self.players.pop(idx)\n",
    "                \n",
    "    def average_age(self):\n",
    "        total_age = 0\n",
    "        for player in self.players:\n",
    "            total_age += float(player.age)\n",
    "            \n",
    "        return total_age / len(self.players)\n",
    "    \n",
    "    def oldest_player(self):\n",
    "        playerAges = {player.name: player.age for player in self.players}\n",
    "        return max(playerAges, key=playerAges.get)\n",
    "\n",
    "    def least_played(self):\n",
    "        leastPlayed = {player.name: player.games_played for player in self.players if 'F' in player.position}\n",
    "        return min(leastPlayed, key=leastPlayed.get)\n",
    "                \n",
    "    def __repr__(self):\n",
    "        return f'<Team: {self.name.upper()} Players: {len(self.players)}>'"
   ]
  },
  {
   "cell_type": "code",
   "execution_count": 3,
   "metadata": {},
   "outputs": [],
   "source": [
    "# # open url and enter data by entering password and click login\n",
    "# driver = webdriver.Chrome('./chromedriver')\n",
    "# driver.get('https://modest-jennings-77f32e.netlify.app/data')\n",
    "# sleep(3)\n",
    "# driver.find_element_by_css_selector('#password').send_keys('jZ3HF+}g')\n",
    "# driver.find_element_by_css_selector(\"button\").click()\n",
    "# sleep(3)\n",
    "# player_row = driver.find_element_by_css_selector('table.min-w-full tbody tr')"
   ]
  },
  {
   "cell_type": "code",
   "execution_count": 46,
   "metadata": {},
   "outputs": [
    {
     "ename": "TypeError",
     "evalue": "get_player_data() takes 0 positional arguments but 1 was given",
     "output_type": "error",
     "traceback": [
      "\u001b[0;31m---------------------------------------------------------------------------\u001b[0m",
      "\u001b[0;31mTypeError\u001b[0m                                 Traceback (most recent call last)",
      "\u001b[0;32m<ipython-input-46-94e8eded0ee3>\u001b[0m in \u001b[0;36m<module>\u001b[0;34m\u001b[0m\n\u001b[1;32m     35\u001b[0m     \u001b[0;32mreturn\u001b[0m \u001b[0mplayers\u001b[0m\u001b[0;34m\u001b[0m\u001b[0;34m\u001b[0m\u001b[0m\n\u001b[1;32m     36\u001b[0m \u001b[0;34m\u001b[0m\u001b[0m\n\u001b[0;32m---> 37\u001b[0;31m \u001b[0mget_player_data\u001b[0m\u001b[0;34m(\u001b[0m\u001b[0;34m''\u001b[0m\u001b[0;34m)\u001b[0m\u001b[0;34m\u001b[0m\u001b[0;34m\u001b[0m\u001b[0m\n\u001b[0m",
      "\u001b[0;31mTypeError\u001b[0m: get_player_data() takes 0 positional arguments but 1 was given"
     ]
    }
   ],
   "source": [
    "def get_player_data():\n",
    "    print(\"Begin Scraping...\")\n",
    "    driver = webdriver.Chrome('./chromedriver')\n",
    "    driver.get('https://modest-jennings-77f32e.netlify.app/data')\n",
    "    sleep(1)\n",
    "    driver.find_element_by_css_selector('#password').send_keys('jZ3HF+}g')\n",
    "    driver.find_element_by_css_selector(\"button\").click()\n",
    "    sleep(1)\n",
    "    \n",
    "    rows = driver.find_elements_by_css_selector(\".min-w-full tbody > tr\")\n",
    "    \n",
    "    for player in rows:\n",
    "        p = player.text.split()\n",
    "        \n",
    "        player_dict = {\n",
    "            \"name\": p[1],\n",
    "            \"team\": p[4] if p[3] in ['Jr.','III', 'II', 'Sr.'] else p[3],\n",
    "            \"position\": p[5] if p[3] in ['Jr.','III', 'II', 'Sr.'] else p[4],\n",
    "            \"age\": p[6] if p[3] in ['Jr.','III', 'II', 'Sr.'] else p[5],\n",
    "            \"games_played\": p[7] if p[3] in ['Jr.','III', 'II', 'Sr.'] else p[6],\n",
    "            \"minutes_per_game\": p[8] if p[3] in ['Jr.','III', 'II', 'Sr.'] else p[7],\n",
    "        }\n",
    "        \n",
    "#         player_dict = {\n",
    "#         \"name\": driver.find_element_by_css_selector('table.min-w-full tbody.bg-white tr[2] ').text,\n",
    "#         \"team\": driver.find_element_by_css_selector('table.min-w-full tbody.bg-white tr[3] ').text,\n",
    "#         \"position\": driver.find_element_by_css_selector('table.min-w-full tbody.bg-white tr[4] ').text,\n",
    "#         \"age\": driver.find_element_by_css_selector('table.min-w-full tbody.bg-white tr[5] ').text,\n",
    "#         \"games_played\": driver.find_element_by_css_selector('table.min-w-full tbody.bg-white tr[6] ').text,\n",
    "#         \"minutes_per_game\": driver.find_element_by_css_selector('table.min-w-full tbody.bg-white tr[7] ').text\n",
    "#         }\n",
    "        \n",
    "        new_player = Player.from_dict(player_dict)\n",
    "        \n",
    "            \n",
    "        players.append(new_player)\n",
    "        \n",
    "    driver.close()\n",
    "        \n",
    "    print(players)\n",
    "    \n",
    "    print('End Scraping')\n",
    "   \n",
    "    return players\n",
    "    \n",
    "get_player_data('')"
   ]
  },
  {
   "cell_type": "code",
   "execution_count": 10,
   "metadata": {},
   "outputs": [],
   "source": [
    "def get_most_mpg(players):\n",
    "    \n",
    "    most_mpg = 0\n",
    "    \n",
    "    for player in players:\n",
    "        mpg = player.get_mpg()\n",
    "\n",
    "        if float(mpg) > float(most_mpg):\n",
    "            most_mpg = mpg\n",
    "    for player in players:\n",
    "      \n",
    "        if player.minutes_per_game == most_mpg:\n",
    "            return player\n",
    "        else:\n",
    "            continue\n",
    "        \n",
    "    return 'Error'"
   ]
  },
  {
   "cell_type": "code",
   "execution_count": 48,
   "metadata": {},
   "outputs": [],
   "source": [
    "def get_most_mpg(players):\n",
    "    \n",
    "    most_mpg = 0\n",
    "    \n",
    "    for player in players:\n",
    "        mpg = player.get_mpg()\n",
    "\n",
    "        if float(mpg) > float(most_mpg):\n",
    "            most_mpg = mpg\n",
    "    for player in players:\n",
    "      \n",
    "        if player.minutes_per_game == most_mpg:\n",
    "            return player\n",
    "        else:\n",
    "            continue\n",
    "        \n",
    "    return 'Error'"
   ]
  },
  {
   "cell_type": "code",
   "execution_count": null,
   "metadata": {},
   "outputs": [],
   "source": [
    "oldest_of_teams = {}\n",
    "\n",
    "for teamName in teams:\n",
    "    oldest_of_teams[teamName] = teams[teamName].oldest_player()\n",
    "\n",
    "#     if teamName not in oldest_of_teams:\n",
    "#         oldest_of_teams[teamName] = teams[teamName]._oldest_player()"
   ]
  },
  {
   "cell_type": "code",
   "execution_count": 13,
   "metadata": {},
   "outputs": [],
   "source": [
    "least_played_f = {}\n",
    "\n",
    "for teamName in teams:\n",
    "    least_played_f[teamName] = teams[teamName].least_played()"
   ]
  },
  {
   "cell_type": "code",
   "execution_count": null,
   "metadata": {},
   "outputs": [],
   "source": []
  },
  {
   "cell_type": "code",
   "execution_count": null,
   "metadata": {},
   "outputs": [],
   "source": []
  },
  {
   "cell_type": "markdown",
   "metadata": {},
   "source": [
    "## Question 1\n",
    "<p>Find the player with the most MPG in the league</p>"
   ]
  },
  {
   "cell_type": "code",
   "execution_count": 42,
   "metadata": {},
   "outputs": [
    {
     "name": "stdout",
     "output_type": "stream",
     "text": [
      "Damian Por 31.02 41.3\n"
     ]
    }
   ],
   "source": [
    "print(get_most_mpg(players))"
   ]
  },
  {
   "cell_type": "markdown",
   "metadata": {},
   "source": [
    "## Question 2\n",
    "<p>Please find the name of the oldest player on each team. Add them to a dictionary with each team's name being a key and the players name being the value.</p>"
   ]
  },
  {
   "cell_type": "code",
   "execution_count": null,
   "metadata": {},
   "outputs": [],
   "source": [
    "# Ex:\n",
    "oldest_players = {\n",
    "    \"Atl\": \"Lou Williams\",\n",
    "    \"Bos\": \"Tristan Thompson\",\n",
    "    # Etc for all teams\n",
    "}"
   ]
  },
  {
   "cell_type": "code",
   "execution_count": 40,
   "metadata": {},
   "outputs": [
    {
     "name": "stdout",
     "output_type": "stream",
     "text": [
      "{'Bos': 'Kemba', 'Atl': 'Lou', 'Dal': 'Boban', 'Den': 'Paul', 'Lac': 'Rajon', 'Lal': 'LeBron', 'Mem': 'Jonas', 'Mia': 'Andre', 'Mil': 'P.J.', 'Nyk': 'Taj', 'Phi': 'Anthony', 'Pho': 'Chris', 'Por': 'Carmelo', 'Uta': 'Ersan', 'Was': 'Robin', 'Bro': 'Jeff'}\n"
     ]
    }
   ],
   "source": [
    "print(oldest_of_teams)"
   ]
  },
  {
   "cell_type": "markdown",
   "metadata": {},
   "source": [
    "## Question 3\n",
    "<p>Find the player with position F that had the least Games Played (GP) for each team, save as a dictionary. If there are multiple with the same GP, pick one.</p>"
   ]
  },
  {
   "cell_type": "code",
   "execution_count": null,
   "metadata": {},
   "outputs": [],
   "source": [
    "# Ex:\n",
    "most_played_center = {\n",
    "    \"Atl\": \"Solomon Hill\",\n",
    "    \"Bos\": \"Semi Ojeleye\",\n",
    "    \"Bro\": \"Reggie Perry\",\n",
    "    \"Dal\": \"Josh Green\", \n",
    "    \"Den\": \"Bol Bol\",\n",
    "    \"Lac\": \"Serge Ibaka\", \n",
    "    \"Lal\": \"Jared Dudley\",\n",
    "    \"Mem\": \"Justice WInslow\", \n",
    "    \"Mia\": \"Max Strus\",\n",
    "    \"Mil\": \"Donte DiVincenzo\",\n",
    "    \"Nyk\": \"Kevin Knox II\",\n",
    "    \"Phi\": \"Anthony Tolliver\",\n",
    "    \"Pho\": \"Ty-Shon Alexander\",\n",
    "    \"Por\": \"Harry Giles III\", \n",
    "    \"Uta\": \"Ersan Ilyasova\",\n",
    "    \"was\": \"Cassius Winston\"\n",
    "    \n",
    "\n",
    "    # Etc for all teams\n",
    "}"
   ]
  },
  {
   "cell_type": "code",
   "execution_count": 44,
   "metadata": {},
   "outputs": [
    {
     "name": "stdout",
     "output_type": "stream",
     "text": [
      "{'Bos': 'Luke', 'Atl': 'Solomon', 'Dal': 'Nicolo', 'Den': 'Aaron', 'Lac': 'Amir', 'Lal': 'Jared', 'Mem': 'Justise', 'Mia': 'Nemanja', 'Mil': 'Thanasis', 'Nyk': 'Kevin', 'Phi': 'Anthony', 'Pho': 'Frank', 'Por': 'Harry', 'Uta': 'Udoka', 'Was': 'Chandler', 'Bro': 'Bruce'}\n"
     ]
    }
   ],
   "source": [
    "print(\"least_played_f\")"
   ]
  }
 ],
 "metadata": {
  "kernelspec": {
   "display_name": "Python 3",
   "language": "python",
   "name": "python3"
  },
  "language_info": {
   "codemirror_mode": {
    "name": "ipython",
    "version": 3
   },
   "file_extension": ".py",
   "mimetype": "text/x-python",
   "name": "python",
   "nbconvert_exporter": "python",
   "pygments_lexer": "ipython3",
   "version": "3.9.6"
  }
 },
 "nbformat": 4,
 "nbformat_minor": 2
}
